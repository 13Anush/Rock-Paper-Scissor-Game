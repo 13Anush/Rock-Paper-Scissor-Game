{
 "cells": [
  {
   "cell_type": "code",
   "execution_count": 2,
   "id": "e567a285",
   "metadata": {},
   "outputs": [
    {
     "name": "stdout",
     "output_type": "stream",
     "text": [
      "Computer Turn: Rock(r) Paper(p) or Scissor(s)?\n",
      "Your Turn: Rock(r) Paper(p) or Scissor(s)?p\n",
      "Computer chose r\n",
      "You chose p\n",
      "You Lose!\n"
     ]
    }
   ],
   "source": [
    "#ROCK PAPER SCISSORS GAME USING PYTHON LANGUAGE \n",
    "\n",
    "import random\n",
    "\n",
    "# Rock Paper Scissors game \n",
    "def gameWin(computer, you):\n",
    "    # If two values are equal, declare a tie!\n",
    "    if computer == you:\n",
    "        return None\n",
    "\n",
    "    # Check for all possibilities when computer chose r\n",
    "    elif computer == 'r':\n",
    "        if you=='p':\n",
    "            return False\n",
    "        elif you=='s':\n",
    "            return True\n",
    "    \n",
    "    # Check for all possibilities when computer chose p\n",
    "    elif computer == 'p':\n",
    "        if you=='s':\n",
    "            return False\n",
    "        elif you=='r':\n",
    "            return True\n",
    "    \n",
    "    # Check for all possibilities when computer chose s\n",
    "    elif computer == 's':\n",
    "        if you=='r':\n",
    "            return False\n",
    "        elif you=='p':\n",
    "            return True\n",
    "\n",
    "print(\"Computer Turn: Rock(r) Paper(p) or Scissor(s)?\")\n",
    "randNo = random.randint(1, 3) \n",
    "if randNo == 1:\n",
    "    computer = 'r'\n",
    "elif randNo == 2:\n",
    "    computer = 'p'\n",
    "elif randNo == 3:\n",
    "    computer = 's'\n",
    "\n",
    "you = input(\"Your Turn: Rock(r) Paper(p) or Scissor(s)?\")\n",
    "a = gameWin(computer, you)\n",
    "\n",
    "print(f\"Computer chose {computer}\")\n",
    "print(f\"You chose {you}\")\n",
    "\n",
    "if a == None:\n",
    "    print(\"The game is a tie!\")\n",
    "elif a:\n",
    "    print(\"You Win!\")\n",
    "else:\n",
    "    print(\"You Lose!\")"
   ]
  },
  {
   "cell_type": "code",
   "execution_count": null,
   "id": "74072b77",
   "metadata": {},
   "outputs": [],
   "source": []
  }
 ],
 "metadata": {
  "kernelspec": {
   "display_name": "Python 3 (ipykernel)",
   "language": "python",
   "name": "python3"
  },
  "language_info": {
   "codemirror_mode": {
    "name": "ipython",
    "version": 3
   },
   "file_extension": ".py",
   "mimetype": "text/x-python",
   "name": "python",
   "nbconvert_exporter": "python",
   "pygments_lexer": "ipython3",
   "version": "3.9.13"
  }
 },
 "nbformat": 4,
 "nbformat_minor": 5
}
